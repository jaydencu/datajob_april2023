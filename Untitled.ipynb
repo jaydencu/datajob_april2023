{
 "cells": [
  {
   "cell_type": "code",
   "execution_count": 2,
   "id": "c8ddbb2d-a372-4de8-bef7-5ed2fbd77b4a",
   "metadata": {
    "tags": []
   },
   "outputs": [
    {
     "name": "stdout",
     "output_type": "stream",
     "text": [
      "Requirement already satisfied: pandas in /Users/cagri/opt/anaconda3/lib/python3.9/site-packages (2.0.2)\n",
      "Requirement already satisfied: numpy>=1.20.3 in /Users/cagri/opt/anaconda3/lib/python3.9/site-packages (from pandas) (1.24.3)\n",
      "Requirement already satisfied: tzdata>=2022.1 in /Users/cagri/opt/anaconda3/lib/python3.9/site-packages (from pandas) (2023.3)\n",
      "Requirement already satisfied: python-dateutil>=2.8.2 in /Users/cagri/opt/anaconda3/lib/python3.9/site-packages (from pandas) (2.8.2)\n",
      "Requirement already satisfied: pytz>=2020.1 in /Users/cagri/opt/anaconda3/lib/python3.9/site-packages (from pandas) (2022.7)\n",
      "Requirement already satisfied: six>=1.5 in /Users/cagri/opt/anaconda3/lib/python3.9/site-packages (from python-dateutil>=2.8.2->pandas) (1.16.0)\n",
      "Note: you may need to restart the kernel to use updated packages.\n"
     ]
    }
   ],
   "source": [
    "pip install pandas"
   ]
  },
  {
   "cell_type": "code",
   "execution_count": 5,
   "id": "14c590af-78d4-43c4-98d9-699c311e9ce1",
   "metadata": {
    "tags": []
   },
   "outputs": [
    {
     "name": "stdout",
     "output_type": "stream",
     "text": [
      "Requirement already satisfied: numpy in /Users/cagri/opt/anaconda3/lib/python3.9/site-packages (1.24.3)\n",
      "Note: you may need to restart the kernel to use updated packages.\n"
     ]
    }
   ],
   "source": [
    "pip install numpy"
   ]
  },
  {
   "cell_type": "code",
   "execution_count": 6,
   "id": "b77df6fe-3596-4e1f-937c-ac42a2846dd2",
   "metadata": {
    "tags": []
   },
   "outputs": [],
   "source": [
    "import pandas as pd\n",
    "import numpy as np"
   ]
  },
  {
   "cell_type": "code",
   "execution_count": 21,
   "id": "85c554da-bb6d-4733-8009-e64d0076e1bd",
   "metadata": {
    "tags": []
   },
   "outputs": [],
   "source": [
    "df = pd.read_csv(\"/Users/cagri/Desktop/datajob/datajob_april2023/kaggle_survey_2020_responses.csv\", low_memory=False)"
   ]
  },
  {
   "cell_type": "code",
   "execution_count": 32,
   "id": "e009468f-882b-40a7-9bd6-0a0d453b153f",
   "metadata": {},
   "outputs": [
    {
     "data": {
      "text/plain": [
       "Time from Start to Finish (seconds)    object\n",
       "Q1                                     object\n",
       "Q2                                     object\n",
       "Q3                                     object\n",
       "Q4                                     object\n",
       "                                        ...  \n",
       "Q35_B_Part_7                           object\n",
       "Q35_B_Part_8                           object\n",
       "Q35_B_Part_9                           object\n",
       "Q35_B_Part_10                          object\n",
       "Q35_B_OTHER                            object\n",
       "Length: 355, dtype: object"
      ]
     },
     "execution_count": 32,
     "metadata": {},
     "output_type": "execute_result"
    }
   ],
   "source": [
    "df.dtypes"
   ]
  }
 ],
 "metadata": {
  "kernelspec": {
   "display_name": "Python 3 (ipykernel)",
   "language": "python",
   "name": "python3"
  },
  "language_info": {
   "codemirror_mode": {
    "name": "ipython",
    "version": 3
   },
   "file_extension": ".py",
   "mimetype": "text/x-python",
   "name": "python",
   "nbconvert_exporter": "python",
   "pygments_lexer": "ipython3",
   "version": "3.9.16"
  }
 },
 "nbformat": 4,
 "nbformat_minor": 5
}
